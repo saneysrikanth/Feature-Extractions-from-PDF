{
 "cells": [
  {
   "cell_type": "code",
   "execution_count": null,
   "metadata": {},
   "outputs": [],
   "source": [
    "# this notebook is not yet completed almost 1/2th of assignmnet is done,but i am sure the work would be completed \n",
    "#if exception for one day is given,\n",
    "# i please you to give exception if you like my work\n",
    "# thnak u in advance.........:)"
   ]
  },
  {
   "cell_type": "code",
   "execution_count": 2,
   "metadata": {},
   "outputs": [],
   "source": [
    "# importing of required libraries\n",
    "\n",
    "import pandas as pd\n",
    "import PyPDF2\n",
    "import nltk\n",
    "import re\n",
    "import numpy as np\n",
    "from PyPDF2 import PdfFileWriter, PdfFileReader\n",
    "from nltk import sent_tokenize,word_tokenize\n",
    "from string import punctuation\n",
    "from nltk.corpus import stopwords"
   ]
  },
  {
   "cell_type": "code",
   "execution_count": 3,
   "metadata": {},
   "outputs": [],
   "source": [
    "# pypdf2 library to read the pdf file\n",
    "test_pdf=PdfFileReader(open('story_pdf.pdf','rb'))"
   ]
  },
  {
   "cell_type": "code",
   "execution_count": 4,
   "metadata": {},
   "outputs": [],
   "source": [
    "# to extraxt the data from pdf file\n",
    "def story(x):\n",
    "    page=[]\n",
    "    for i in  range(0,x.numPages):\n",
    "        pages=x.getPage(i) \n",
    "        story=pages.extractText() \n",
    "        k= ' '.join (story.split())# removing of white spaces\n",
    "        page.append(k)\n",
    "    return page"
   ]
  },
  {
   "cell_type": "code",
   "execution_count": 5,
   "metadata": {},
   "outputs": [],
   "source": [
    "# conversion to string because nltk only process strings\n",
    "text=str(story(test_pdf))\n",
    "#text"
   ]
  },
  {
   "cell_type": "code",
   "execution_count": 6,
   "metadata": {},
   "outputs": [
    {
     "data": {
      "text/plain": [
       "487"
      ]
     },
     "execution_count": 6,
     "metadata": {},
     "output_type": "execute_result"
    }
   ],
   "source": [
    "# text preprocessing by nltk \n",
    "# removing of stopwords and punctutations helps in clear understanding\n",
    "tokens=[word for sent in sent_tokenize(text) for word in word_tokenize(sent)]\n",
    "#print(len(tokens))\n",
    "stop_words=stopwords.words('english')+list(punctuation)\n",
    "tokens=[w for w in tokens if w not in stop_words]\n",
    "#print(tokens)\n",
    "#print(len(tokens))\n",
    "tokens=[w for w in tokens if len(w)>2]\n",
    "#print(tokens)\n",
    "len(tokens)"
   ]
  },
  {
   "cell_type": "code",
   "execution_count": 7,
   "metadata": {},
   "outputs": [],
   "source": [
    "# function to find the page n.o of a word and a word even if repeated in another page\n",
    "\n",
    "def page_num(x):\n",
    "    pages_text=[]\n",
    "    words_start_pos={}\n",
    "    words={}\n",
    "    k=[]\n",
    "    number_of_pages=x.numPages \n",
    "    searchwords=tokens\n",
    "    for word in searchwords:\n",
    "        for page in range(number_of_pages):\n",
    "            #print(page)\n",
    "            pages_text.append(x.getPage(page).extractText())\n",
    "            words_start_pos[page]=[dwg.start() for dwg in re.finditer(word,pages_text[page])]\n",
    "            #print(words_start_pos)\n",
    "            words[page]=[pages_text[page][value:value+len(word)] for value in words_start_pos[page]]\n",
    "        for page in words:\n",
    "            #print(page)\n",
    "            for i in range(0,len(words[page])):\n",
    "                if str(words[page][i]) != 'nan':\n",
    "                    w=(page, words[page][i])\n",
    "                    k.append(w)\n",
    "    return k"
   ]
  },
  {
   "cell_type": "code",
   "execution_count": 8,
   "metadata": {},
   "outputs": [],
   "source": [
    "#  function to find length of a words\n",
    "def length(text):\n",
    "    l=[]\n",
    "    for w in text:\n",
    "        l.append(len(w))\n",
    "    return l       "
   ]
  },
  {
   "cell_type": "code",
   "execution_count": 9,
   "metadata": {},
   "outputs": [],
   "source": [
    "# creating data drame for words and page number\n",
    "assignment=pd.DataFrame(columns=['page_num','Words'], data=page_num(test_pdf))\n",
    "#assignment.head()"
   ]
  },
  {
   "cell_type": "code",
   "execution_count": 10,
   "metadata": {},
   "outputs": [
    {
     "data": {
      "text/html": [
       "<div>\n",
       "<style scoped>\n",
       "    .dataframe tbody tr th:only-of-type {\n",
       "        vertical-align: middle;\n",
       "    }\n",
       "\n",
       "    .dataframe tbody tr th {\n",
       "        vertical-align: top;\n",
       "    }\n",
       "\n",
       "    .dataframe thead th {\n",
       "        text-align: right;\n",
       "    }\n",
       "</style>\n",
       "<table border=\"1\" class=\"dataframe\">\n",
       "  <thead>\n",
       "    <tr style=\"text-align: right;\">\n",
       "      <th></th>\n",
       "      <th>page_num</th>\n",
       "      <th>Words</th>\n",
       "      <th>length</th>\n",
       "    </tr>\n",
       "  </thead>\n",
       "  <tbody>\n",
       "    <tr>\n",
       "      <th>719</th>\n",
       "      <td>1</td>\n",
       "      <td>jacket</td>\n",
       "      <td>6</td>\n",
       "    </tr>\n",
       "    <tr>\n",
       "      <th>120</th>\n",
       "      <td>0</td>\n",
       "      <td>passing</td>\n",
       "      <td>7</td>\n",
       "    </tr>\n",
       "    <tr>\n",
       "      <th>754</th>\n",
       "      <td>1</td>\n",
       "      <td>smell</td>\n",
       "      <td>5</td>\n",
       "    </tr>\n",
       "    <tr>\n",
       "      <th>168</th>\n",
       "      <td>0</td>\n",
       "      <td>time</td>\n",
       "      <td>4</td>\n",
       "    </tr>\n",
       "    <tr>\n",
       "      <th>368</th>\n",
       "      <td>2</td>\n",
       "      <td>The</td>\n",
       "      <td>3</td>\n",
       "    </tr>\n",
       "  </tbody>\n",
       "</table>\n",
       "</div>"
      ],
      "text/plain": [
       "     page_num    Words  length\n",
       "719         1   jacket       6\n",
       "120         0  passing       7\n",
       "754         1    smell       5\n",
       "168         0     time       4\n",
       "368         2      The       3"
      ]
     },
     "execution_count": 10,
     "metadata": {},
     "output_type": "execute_result"
    }
   ],
   "source": [
    "# adding length column to dataframe\n",
    "assignment['length']=length(assignment.Words)\n",
    "assignment.sample(5)"
   ]
  },
  {
   "cell_type": "code",
   "execution_count": 12,
   "metadata": {},
   "outputs": [],
   "source": [
    "# adding parts of speech column to dataframe\n",
    "assignment['pos_tag']=nltk.pos_tag(assignment.Words)"
   ]
  },
  {
   "cell_type": "code",
   "execution_count": 13,
   "metadata": {},
   "outputs": [
    {
     "data": {
      "text/html": [
       "<div>\n",
       "<style scoped>\n",
       "    .dataframe tbody tr th:only-of-type {\n",
       "        vertical-align: middle;\n",
       "    }\n",
       "\n",
       "    .dataframe tbody tr th {\n",
       "        vertical-align: top;\n",
       "    }\n",
       "\n",
       "    .dataframe thead th {\n",
       "        text-align: right;\n",
       "    }\n",
       "</style>\n",
       "<table border=\"1\" class=\"dataframe\">\n",
       "  <thead>\n",
       "    <tr style=\"text-align: right;\">\n",
       "      <th></th>\n",
       "      <th>page_num</th>\n",
       "      <th>Words</th>\n",
       "      <th>length</th>\n",
       "      <th>pos_tag</th>\n",
       "    </tr>\n",
       "  </thead>\n",
       "  <tbody>\n",
       "    <tr>\n",
       "      <th>1155</th>\n",
       "      <td>1</td>\n",
       "      <td>watching</td>\n",
       "      <td>8</td>\n",
       "      <td>(watching, VBG)</td>\n",
       "    </tr>\n",
       "    <tr>\n",
       "      <th>1156</th>\n",
       "      <td>2</td>\n",
       "      <td>watching</td>\n",
       "      <td>8</td>\n",
       "      <td>(watching, VBG)</td>\n",
       "    </tr>\n",
       "    <tr>\n",
       "      <th>1157</th>\n",
       "      <td>2</td>\n",
       "      <td>fade</td>\n",
       "      <td>4</td>\n",
       "      <td>(fade, NN)</td>\n",
       "    </tr>\n",
       "    <tr>\n",
       "      <th>1158</th>\n",
       "      <td>2</td>\n",
       "      <td>heat</td>\n",
       "      <td>4</td>\n",
       "      <td>(heat, NN)</td>\n",
       "    </tr>\n",
       "    <tr>\n",
       "      <th>1159</th>\n",
       "      <td>2</td>\n",
       "      <td>dies</td>\n",
       "      <td>4</td>\n",
       "      <td>(dies, NNS)</td>\n",
       "    </tr>\n",
       "  </tbody>\n",
       "</table>\n",
       "</div>"
      ],
      "text/plain": [
       "      page_num     Words  length          pos_tag\n",
       "1155         1  watching       8  (watching, VBG)\n",
       "1156         2  watching       8  (watching, VBG)\n",
       "1157         2      fade       4       (fade, NN)\n",
       "1158         2      heat       4       (heat, NN)\n",
       "1159         2      dies       4      (dies, NNS)"
      ]
     },
     "execution_count": 13,
     "metadata": {},
     "output_type": "execute_result"
    }
   ],
   "source": [
    "assignment.tail(5)"
   ]
  },
  {
   "cell_type": "code",
   "execution_count": 14,
   "metadata": {},
   "outputs": [
    {
     "data": {
      "text/html": [
       "<div>\n",
       "<style scoped>\n",
       "    .dataframe tbody tr th:only-of-type {\n",
       "        vertical-align: middle;\n",
       "    }\n",
       "\n",
       "    .dataframe tbody tr th {\n",
       "        vertical-align: top;\n",
       "    }\n",
       "\n",
       "    .dataframe thead th {\n",
       "        text-align: right;\n",
       "    }\n",
       "</style>\n",
       "<table border=\"1\" class=\"dataframe\">\n",
       "  <thead>\n",
       "    <tr style=\"text-align: right;\">\n",
       "      <th></th>\n",
       "      <th>Words</th>\n",
       "      <th>length</th>\n",
       "      <th>page_num</th>\n",
       "      <th>pos_tag</th>\n",
       "    </tr>\n",
       "  </thead>\n",
       "  <tbody>\n",
       "    <tr>\n",
       "      <th>0</th>\n",
       "      <td>2002</td>\n",
       "      <td>4</td>\n",
       "      <td>0</td>\n",
       "      <td>(2002, CD)</td>\n",
       "    </tr>\n",
       "    <tr>\n",
       "      <th>1</th>\n",
       "      <td>And</td>\n",
       "      <td>3</td>\n",
       "      <td>0</td>\n",
       "      <td>(And, CC)</td>\n",
       "    </tr>\n",
       "    <tr>\n",
       "      <th>2</th>\n",
       "      <td>And</td>\n",
       "      <td>3</td>\n",
       "      <td>1</td>\n",
       "      <td>(And, CC)</td>\n",
       "    </tr>\n",
       "    <tr>\n",
       "      <th>3</th>\n",
       "      <td>And</td>\n",
       "      <td>3</td>\n",
       "      <td>2</td>\n",
       "      <td>(And, CC)</td>\n",
       "    </tr>\n",
       "    <tr>\n",
       "      <th>4</th>\n",
       "      <td>British</td>\n",
       "      <td>7</td>\n",
       "      <td>1</td>\n",
       "      <td>(British, JJ)</td>\n",
       "    </tr>\n",
       "  </tbody>\n",
       "</table>\n",
       "</div>"
      ],
      "text/plain": [
       "     Words  length  page_num        pos_tag\n",
       "0     2002       4         0     (2002, CD)\n",
       "1      And       3         0      (And, CC)\n",
       "2      And       3         1      (And, CC)\n",
       "3      And       3         2      (And, CC)\n",
       "4  British       7         1  (British, JJ)"
      ]
     },
     "execution_count": 14,
     "metadata": {},
     "output_type": "execute_result"
    }
   ],
   "source": [
    "# grouping all the column based on words\n",
    "assignment=assignment.groupby(['Words', 'length','page_num','pos_tag'], observed=True).count()\n",
    "assignment.reset_index(inplace=True)\n",
    "assignment.head(5)"
   ]
  },
  {
   "cell_type": "code",
   "execution_count": 16,
   "metadata": {},
   "outputs": [],
   "source": [
    "assignment.to_csv('C:\\\\Users\\\\DELL\\\\Desktop\\\\MY STUFF\\DATA SCIENCE\\DATA\\\\Raw data\\\\assignment2.csv')"
   ]
  },
  {
   "cell_type": "code",
   "execution_count": null,
   "metadata": {},
   "outputs": [],
   "source": []
  },
  {
   "cell_type": "code",
   "execution_count": 311,
   "metadata": {},
   "outputs": [],
   "source": [
    "df=assignment"
   ]
  },
  {
   "cell_type": "code",
   "execution_count": 312,
   "metadata": {},
   "outputs": [
    {
     "data": {
      "text/html": [
       "<div>\n",
       "<style scoped>\n",
       "    .dataframe tbody tr th:only-of-type {\n",
       "        vertical-align: middle;\n",
       "    }\n",
       "\n",
       "    .dataframe tbody tr th {\n",
       "        vertical-align: top;\n",
       "    }\n",
       "\n",
       "    .dataframe thead th {\n",
       "        text-align: right;\n",
       "    }\n",
       "</style>\n",
       "<table border=\"1\" class=\"dataframe\">\n",
       "  <thead>\n",
       "    <tr style=\"text-align: right;\">\n",
       "      <th></th>\n",
       "      <th>Words</th>\n",
       "      <th>length</th>\n",
       "      <th>page_num</th>\n",
       "      <th>pos_tag</th>\n",
       "    </tr>\n",
       "  </thead>\n",
       "  <tbody>\n",
       "    <tr>\n",
       "      <th>0</th>\n",
       "      <td>2002</td>\n",
       "      <td>4</td>\n",
       "      <td>0</td>\n",
       "      <td>(2002, CD)</td>\n",
       "    </tr>\n",
       "    <tr>\n",
       "      <th>1</th>\n",
       "      <td>And</td>\n",
       "      <td>3</td>\n",
       "      <td>0</td>\n",
       "      <td>(And, CC)</td>\n",
       "    </tr>\n",
       "    <tr>\n",
       "      <th>2</th>\n",
       "      <td>And</td>\n",
       "      <td>3</td>\n",
       "      <td>1</td>\n",
       "      <td>(And, CC)</td>\n",
       "    </tr>\n",
       "    <tr>\n",
       "      <th>3</th>\n",
       "      <td>And</td>\n",
       "      <td>3</td>\n",
       "      <td>2</td>\n",
       "      <td>(And, CC)</td>\n",
       "    </tr>\n",
       "    <tr>\n",
       "      <th>4</th>\n",
       "      <td>British</td>\n",
       "      <td>7</td>\n",
       "      <td>1</td>\n",
       "      <td>(British, JJ)</td>\n",
       "    </tr>\n",
       "  </tbody>\n",
       "</table>\n",
       "</div>"
      ],
      "text/plain": [
       "     Words  length  page_num        pos_tag\n",
       "0     2002       4         0     (2002, CD)\n",
       "1      And       3         0      (And, CC)\n",
       "2      And       3         1      (And, CC)\n",
       "3      And       3         2      (And, CC)\n",
       "4  British       7         1  (British, JJ)"
      ]
     },
     "execution_count": 312,
     "metadata": {},
     "output_type": "execute_result"
    }
   ],
   "source": [
    "df.head()"
   ]
  },
  {
   "cell_type": "code",
   "execution_count": 289,
   "metadata": {},
   "outputs": [],
   "source": [
    "key_tags=['Strength','Shawn','Inevitable','Laurie','Craig']"
   ]
  },
  {
   "cell_type": "code",
   "execution_count": 313,
   "metadata": {},
   "outputs": [
    {
     "data": {
      "text/html": [
       "<style  type=\"text/css\" >\n",
       "</style>  \n",
       "<table id=\"T_1084d612_f006_11e8_a4e9_3c5282b879b8\" > \n",
       "<thead>    <tr> \n",
       "        <th class=\"blank level0\" ></th> \n",
       "        <th class=\"col_heading level0 col0\" >Words</th> \n",
       "        <th class=\"col_heading level0 col1\" >length</th> \n",
       "        <th class=\"col_heading level0 col2\" >page_num</th> \n",
       "        <th class=\"col_heading level0 col3\" >pos_tag</th> \n",
       "    </tr></thead> \n",
       "<tbody>    <tr> \n",
       "        <th id=\"T_1084d612_f006_11e8_a4e9_3c5282b879b8level0_row0\" class=\"row_heading level0 row0\" >0</th> \n",
       "        <td id=\"T_1084d612_f006_11e8_a4e9_3c5282b879b8row0_col0\" class=\"data row0 col0\" >2002</td> \n",
       "        <td id=\"T_1084d612_f006_11e8_a4e9_3c5282b879b8row0_col1\" class=\"data row0 col1\" >4</td> \n",
       "        <td id=\"T_1084d612_f006_11e8_a4e9_3c5282b879b8row0_col2\" class=\"data row0 col2\" >0</td> \n",
       "        <td id=\"T_1084d612_f006_11e8_a4e9_3c5282b879b8row0_col3\" class=\"data row0 col3\" >('2002', 'CD')</td> \n",
       "    </tr>    <tr> \n",
       "        <th id=\"T_1084d612_f006_11e8_a4e9_3c5282b879b8level0_row1\" class=\"row_heading level0 row1\" >1</th> \n",
       "        <td id=\"T_1084d612_f006_11e8_a4e9_3c5282b879b8row1_col0\" class=\"data row1 col0\" >And</td> \n",
       "        <td id=\"T_1084d612_f006_11e8_a4e9_3c5282b879b8row1_col1\" class=\"data row1 col1\" >3</td> \n",
       "        <td id=\"T_1084d612_f006_11e8_a4e9_3c5282b879b8row1_col2\" class=\"data row1 col2\" >0</td> \n",
       "        <td id=\"T_1084d612_f006_11e8_a4e9_3c5282b879b8row1_col3\" class=\"data row1 col3\" >('And', 'CC')</td> \n",
       "    </tr>    <tr> \n",
       "        <th id=\"T_1084d612_f006_11e8_a4e9_3c5282b879b8level0_row2\" class=\"row_heading level0 row2\" >2</th> \n",
       "        <td id=\"T_1084d612_f006_11e8_a4e9_3c5282b879b8row2_col0\" class=\"data row2 col0\" >And</td> \n",
       "        <td id=\"T_1084d612_f006_11e8_a4e9_3c5282b879b8row2_col1\" class=\"data row2 col1\" >3</td> \n",
       "        <td id=\"T_1084d612_f006_11e8_a4e9_3c5282b879b8row2_col2\" class=\"data row2 col2\" >1</td> \n",
       "        <td id=\"T_1084d612_f006_11e8_a4e9_3c5282b879b8row2_col3\" class=\"data row2 col3\" >('And', 'CC')</td> \n",
       "    </tr>    <tr> \n",
       "        <th id=\"T_1084d612_f006_11e8_a4e9_3c5282b879b8level0_row3\" class=\"row_heading level0 row3\" >3</th> \n",
       "        <td id=\"T_1084d612_f006_11e8_a4e9_3c5282b879b8row3_col0\" class=\"data row3 col0\" >And</td> \n",
       "        <td id=\"T_1084d612_f006_11e8_a4e9_3c5282b879b8row3_col1\" class=\"data row3 col1\" >3</td> \n",
       "        <td id=\"T_1084d612_f006_11e8_a4e9_3c5282b879b8row3_col2\" class=\"data row3 col2\" >2</td> \n",
       "        <td id=\"T_1084d612_f006_11e8_a4e9_3c5282b879b8row3_col3\" class=\"data row3 col3\" >('And', 'CC')</td> \n",
       "    </tr>    <tr> \n",
       "        <th id=\"T_1084d612_f006_11e8_a4e9_3c5282b879b8level0_row4\" class=\"row_heading level0 row4\" >4</th> \n",
       "        <td id=\"T_1084d612_f006_11e8_a4e9_3c5282b879b8row4_col0\" class=\"data row4 col0\" >British</td> \n",
       "        <td id=\"T_1084d612_f006_11e8_a4e9_3c5282b879b8row4_col1\" class=\"data row4 col1\" >7</td> \n",
       "        <td id=\"T_1084d612_f006_11e8_a4e9_3c5282b879b8row4_col2\" class=\"data row4 col2\" >1</td> \n",
       "        <td id=\"T_1084d612_f006_11e8_a4e9_3c5282b879b8row4_col3\" class=\"data row4 col3\" >('British', 'JJ')</td> \n",
       "    </tr></tbody> \n",
       "</table> "
      ],
      "text/plain": [
       "<pandas.io.formats.style.Styler at 0x26ea42a5ef0>"
      ]
     },
     "execution_count": 313,
     "metadata": {},
     "output_type": "execute_result"
    }
   ],
   "source": [
    "df[0:5].style"
   ]
  },
  {
   "cell_type": "code",
   "execution_count": 314,
   "metadata": {},
   "outputs": [
    {
     "ename": "SyntaxError",
     "evalue": "invalid syntax (<ipython-input-314-88fadf0609d0>, line 6)",
     "output_type": "error",
     "traceback": [
      "\u001b[1;36m  File \u001b[1;32m\"<ipython-input-314-88fadf0609d0>\"\u001b[1;36m, line \u001b[1;32m6\u001b[0m\n\u001b[1;33m    else:\u001b[0m\n\u001b[1;37m       ^\u001b[0m\n\u001b[1;31mSyntaxError\u001b[0m\u001b[1;31m:\u001b[0m invalid syntax\n"
     ]
    }
   ],
   "source": [
    "for i in key_tags:\n",
    "    match = re.search(i,str(tokens))\n",
    "    if match:\n",
    "        print(match)"
   ]
  },
  {
   "cell_type": "code",
   "execution_count": 318,
   "metadata": {},
   "outputs": [
    {
     "name": "stdout",
     "output_type": "stream",
     "text": [
      "<_sre.SRE_Match object; span=(2000, 2008), match='Strength'>\n",
      "<_sre.SRE_Match object; span=(21, 26), match='Shawn'>\n",
      "<_sre.SRE_Match object; span=(1986, 1996), match='Inevitable'>\n",
      "<_sre.SRE_Match object; span=(772, 778), match='Laurie'>\n",
      "<_sre.SRE_Match object; span=(2339, 2344), match='Craig'>\n"
     ]
    }
   ],
   "source": []
  },
  {
   "cell_type": "code",
   "execution_count": 308,
   "metadata": {},
   "outputs": [
    {
     "ename": "NameError",
     "evalue": "name 'w' is not defined",
     "output_type": "error",
     "traceback": [
      "\u001b[1;31m---------------------------------------------------------------------------\u001b[0m",
      "\u001b[1;31mNameError\u001b[0m                                 Traceback (most recent call last)",
      "\u001b[1;32m<ipython-input-308-718b8049f0af>\u001b[0m in \u001b[0;36m<module>\u001b[1;34m()\u001b[0m\n\u001b[1;32m----> 1\u001b[1;33m \u001b[0mmark\u001b[0m\u001b[1;33m(\u001b[0m\u001b[0mkey_tags\u001b[0m\u001b[1;33m)\u001b[0m\u001b[1;33m\u001b[0m\u001b[0m\n\u001b[0m",
      "\u001b[1;32m<ipython-input-307-35c3ebbbe179>\u001b[0m in \u001b[0;36mmark\u001b[1;34m(x)\u001b[0m\n\u001b[0;32m      1\u001b[0m \u001b[1;32mdef\u001b[0m \u001b[0mmark\u001b[0m\u001b[1;33m(\u001b[0m\u001b[0mx\u001b[0m\u001b[1;33m)\u001b[0m\u001b[1;33m:\u001b[0m\u001b[1;33m\u001b[0m\u001b[0m\n\u001b[1;32m----> 2\u001b[1;33m     \u001b[0mresult\u001b[0m\u001b[1;33m=\u001b[0m\u001b[1;33m[\u001b[0m\u001b[0mw\u001b[0m \u001b[1;32mfor\u001b[0m \u001b[0mw\u001b[0m \u001b[1;32min\u001b[0m \u001b[0mre\u001b[0m\u001b[1;33m.\u001b[0m\u001b[0msearch\u001b[0m\u001b[1;33m(\u001b[0m\u001b[0mw\u001b[0m\u001b[1;33m,\u001b[0m\u001b[0mtokens\u001b[0m\u001b[1;33m)\u001b[0m\u001b[1;33m]\u001b[0m\u001b[1;33m\u001b[0m\u001b[0m\n\u001b[0m\u001b[0;32m      3\u001b[0m     \u001b[0mk\u001b[0m\u001b[1;33m=\u001b[0m\u001b[0mprint\u001b[0m\u001b[1;33m(\u001b[0m\u001b[0mresult\u001b[0m\u001b[1;33m)\u001b[0m\u001b[1;33m\u001b[0m\u001b[0m\n\u001b[0;32m      4\u001b[0m     \u001b[1;32mreturn\u001b[0m \u001b[0mk\u001b[0m\u001b[1;33m\u001b[0m\u001b[0m\n",
      "\u001b[1;31mNameError\u001b[0m: name 'w' is not defined"
     ]
    }
   ],
   "source": [
    "mark(key_tags)"
   ]
  },
  {
   "cell_type": "code",
   "execution_count": 293,
   "metadata": {},
   "outputs": [],
   "source": [
    "def mark_red(val):\n",
    "    for i in val:\n",
    "        if i==assignment.Words:\n",
    "            k=found\n",
    "    return k\n",
    "    #color = 'red' if val < 0 else 'black'\n",
    "    #return 'color: %s' % color"
   ]
  },
  {
   "cell_type": "code",
   "execution_count": 294,
   "metadata": {},
   "outputs": [
    {
     "ename": "ValueError",
     "evalue": "The truth value of a Series is ambiguous. Use a.empty, a.bool(), a.item(), a.any() or a.all().",
     "output_type": "error",
     "traceback": [
      "\u001b[1;31m---------------------------------------------------------------------------\u001b[0m",
      "\u001b[1;31mValueError\u001b[0m                                Traceback (most recent call last)",
      "\u001b[1;32m<ipython-input-294-83d3ccbc821c>\u001b[0m in \u001b[0;36m<module>\u001b[1;34m()\u001b[0m\n\u001b[1;32m----> 1\u001b[1;33m \u001b[0mmark_red\u001b[0m\u001b[1;33m(\u001b[0m\u001b[0mkey_tags\u001b[0m\u001b[1;33m)\u001b[0m\u001b[1;33m\u001b[0m\u001b[0m\n\u001b[0m",
      "\u001b[1;32m<ipython-input-293-efaf5f458b0a>\u001b[0m in \u001b[0;36mmark_red\u001b[1;34m(val)\u001b[0m\n\u001b[0;32m      1\u001b[0m \u001b[1;32mdef\u001b[0m \u001b[0mmark_red\u001b[0m\u001b[1;33m(\u001b[0m\u001b[0mval\u001b[0m\u001b[1;33m)\u001b[0m\u001b[1;33m:\u001b[0m\u001b[1;33m\u001b[0m\u001b[0m\n\u001b[0;32m      2\u001b[0m     \u001b[1;32mfor\u001b[0m \u001b[0mi\u001b[0m \u001b[1;32min\u001b[0m \u001b[0mval\u001b[0m\u001b[1;33m:\u001b[0m\u001b[1;33m\u001b[0m\u001b[0m\n\u001b[1;32m----> 3\u001b[1;33m         \u001b[1;32mif\u001b[0m \u001b[0mi\u001b[0m\u001b[1;33m==\u001b[0m\u001b[0massignment\u001b[0m\u001b[1;33m.\u001b[0m\u001b[0mWords\u001b[0m\u001b[1;33m:\u001b[0m\u001b[1;33m\u001b[0m\u001b[0m\n\u001b[0m\u001b[0;32m      4\u001b[0m             \u001b[0mk\u001b[0m\u001b[1;33m=\u001b[0m\u001b[0mfound\u001b[0m\u001b[1;33m\u001b[0m\u001b[0m\n\u001b[0;32m      5\u001b[0m     \u001b[1;32mreturn\u001b[0m \u001b[0mk\u001b[0m\u001b[1;33m\u001b[0m\u001b[0m\n",
      "\u001b[1;32mC:\\ProgramData\\Anaconda3\\lib\\site-packages\\pandas\\core\\generic.py\u001b[0m in \u001b[0;36m__nonzero__\u001b[1;34m(self)\u001b[0m\n\u001b[0;32m   1571\u001b[0m         raise ValueError(\"The truth value of a {0} is ambiguous. \"\n\u001b[0;32m   1572\u001b[0m                          \u001b[1;34m\"Use a.empty, a.bool(), a.item(), a.any() or a.all().\"\u001b[0m\u001b[1;33m\u001b[0m\u001b[0m\n\u001b[1;32m-> 1573\u001b[1;33m                          .format(self.__class__.__name__))\n\u001b[0m\u001b[0;32m   1574\u001b[0m \u001b[1;33m\u001b[0m\u001b[0m\n\u001b[0;32m   1575\u001b[0m     \u001b[0m__bool__\u001b[0m \u001b[1;33m=\u001b[0m \u001b[0m__nonzero__\u001b[0m\u001b[1;33m\u001b[0m\u001b[0m\n",
      "\u001b[1;31mValueError\u001b[0m: The truth value of a Series is ambiguous. Use a.empty, a.bool(), a.item(), a.any() or a.all()."
     ]
    }
   ],
   "source": [
    "mark_red(key_tags)"
   ]
  },
  {
   "cell_type": "code",
   "execution_count": null,
   "metadata": {},
   "outputs": [],
   "source": []
  }
 ],
 "metadata": {
  "kernelspec": {
   "display_name": "Python 3",
   "language": "python",
   "name": "python3"
  },
  "language_info": {
   "codemirror_mode": {
    "name": "ipython",
    "version": 3
   },
   "file_extension": ".py",
   "mimetype": "text/x-python",
   "name": "python",
   "nbconvert_exporter": "python",
   "pygments_lexer": "ipython3",
   "version": "3.6.5"
  }
 },
 "nbformat": 4,
 "nbformat_minor": 2
}
